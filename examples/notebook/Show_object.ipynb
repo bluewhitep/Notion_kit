{
 "cells": [
  {
   "cell_type": "code",
   "execution_count": null,
   "metadata": {},
   "outputs": [],
   "source": [
    "import os\n",
    "from pprint import pprint\n",
    "\n",
    "from notion_kit import kit as nkit"
   ]
  },
  {
   "cell_type": "code",
   "execution_count": null,
   "metadata": {},
   "outputs": [],
   "source": [
    "token = os.environ[\"NOTION_TOKEN\"]\n",
    "notion_client = nkit.Client(token=token)"
   ]
  },
  {
   "cell_type": "code",
   "execution_count": null,
   "metadata": {},
   "outputs": [],
   "source": [
    "page_url = \"\"\n",
    "\n",
    "database_url = \"\"\n",
    "\n",
    "database_page_url = \"\"\n"
   ]
  },
  {
   "cell_type": "code",
   "execution_count": null,
   "metadata": {},
   "outputs": [],
   "source": [
    "# Show page object\n",
    "page_object = nkit.Page.get_data(nkit.get_id(page_url))\n",
    "\n",
    "pprint(page_object)"
   ]
  },
  {
   "cell_type": "code",
   "execution_count": null,
   "metadata": {},
   "outputs": [],
   "source": [
    "# Show database object\n",
    "database_object = nkit.Database.get_data(nkit.get_id(database_url)) \n",
    "\n",
    "pprint(database_object.Dict)"
   ]
  },
  {
   "cell_type": "code",
   "execution_count": null,
   "metadata": {},
   "outputs": [],
   "source": [
    "# Show database container object\n",
    "database_pages_object = nkit.Database.get_pages(nkit.get_id(database_url)) \n",
    "\n",
    "pprint(database_pages_object)"
   ]
  },
  {
   "cell_type": "code",
   "execution_count": null,
   "metadata": {},
   "outputs": [],
   "source": [
    "# Show page object\n",
    "page_on_database_object = nkit.Page.get_data(nkit.get_id(database_page_url))\n",
    "\n",
    "pprint(page_on_database_object)"
   ]
  }
 ],
 "metadata": {
  "kernelspec": {
   "display_name": "notion_wbe",
   "language": "python",
   "name": "python3"
  },
  "language_info": {
   "codemirror_mode": {
    "name": "ipython",
    "version": 3
   },
   "file_extension": ".py",
   "mimetype": "text/x-python",
   "name": "python",
   "nbconvert_exporter": "python",
   "pygments_lexer": "ipython3",
   "version": "3.10.3"
  },
  "orig_nbformat": 4,
  "vscode": {
   "interpreter": {
    "hash": "1a6c78603f204e84009c4e4c3c0b655b9f7529c83d726baa47e5c2df6b90c11c"
   }
  }
 },
 "nbformat": 4,
 "nbformat_minor": 2
}

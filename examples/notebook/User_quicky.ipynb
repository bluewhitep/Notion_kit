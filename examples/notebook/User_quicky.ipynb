{
 "cells": [
  {
   "cell_type": "code",
   "execution_count": null,
   "metadata": {},
   "outputs": [],
   "source": [
    "import os\n",
    "from pprint import pprint\n",
    "\n",
    "from notion_kit import kit as nkit"
   ]
  },
  {
   "cell_type": "code",
   "execution_count": null,
   "metadata": {},
   "outputs": [],
   "source": [
    "token = os.environ[\"NOTION_TOKEN\"]\n",
    "notion_client = nkit.Client(token=token)"
   ]
  },
  {
   "cell_type": "code",
   "execution_count": null,
   "metadata": {},
   "outputs": [],
   "source": [
    "# Get User list\n",
    "user_list = nkit.User.get_user_list()\n",
    "pprint(user_list)"
   ]
  },
  {
   "cell_type": "code",
   "execution_count": null,
   "metadata": {},
   "outputs": [],
   "source": [
    "# who am i\n",
    "bot = nkit.User.who_am_i()\n",
    "pprint(bot.Dict)"
   ]
  },
  {
   "cell_type": "code",
   "execution_count": null,
   "metadata": {},
   "outputs": [],
   "source": [
    "# Get user data by user_id\n",
    "user_data = nkit.User.get_user_data(user_id=user_list[0].id)\n",
    "pprint(user_data)"
   ]
  }
 ],
 "metadata": {
  "kernelspec": {
   "display_name": "notion_wbe",
   "language": "python",
   "name": "python3"
  },
  "language_info": {
   "codemirror_mode": {
    "name": "ipython",
    "version": 3
   },
   "file_extension": ".py",
   "mimetype": "text/x-python",
   "name": "python",
   "nbconvert_exporter": "python",
   "pygments_lexer": "ipython3",
   "version": "3.10.3"
  },
  "orig_nbformat": 4,
  "vscode": {
   "interpreter": {
    "hash": "1a6c78603f204e84009c4e4c3c0b655b9f7529c83d726baa47e5c2df6b90c11c"
   }
  }
 },
 "nbformat": 4,
 "nbformat_minor": 2
}

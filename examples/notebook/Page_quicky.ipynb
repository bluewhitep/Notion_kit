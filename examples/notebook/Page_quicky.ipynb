{
 "cells": [
  {
   "cell_type": "code",
   "execution_count": null,
   "metadata": {},
   "outputs": [],
   "source": [
    "import os\n",
    "from pprint import pprint\n",
    "\n",
    "from notion_kit import Kit as nkit\n",
    "from notion_kit import object as nobj"
   ]
  },
  {
   "cell_type": "code",
   "execution_count": null,
   "metadata": {},
   "outputs": [],
   "source": [
    "#############################################\n",
    "# This cell:\n",
    "#    1. Read token(*) from os environment variable\n",
    "#    * Following the instruction for get token:\n",
    "#        https://developers.notion.com/docs/authorization#set-up-the-auth-flow-for-a-public-integration\n",
    "#############################################\n",
    "\n",
    "# 1. Recommend: use environment variable\n",
    "token = os.environ[\"NOTION_TOKEN\"]"
   ]
  },
  {
   "cell_type": "code",
   "execution_count": null,
   "metadata": {},
   "outputs": [],
   "source": [
    "#############################################\n",
    "# This cell:\n",
    "#    1. Set client\n",
    "#    2. Get id from notion url\n",
    "#############################################\n",
    "\n",
    "# 1. Set client\n",
    "notion_client = nkit.Client(token=token)\n",
    "\n",
    "# 2. Get id from notion url\n",
    "##   Page url\n",
    "page_url = \"\"\n",
    "page_id = nkit.get_id(url=page_url)\n",
    "\n",
    "print(\"Page id: \", page_id)"
   ]
  },
  {
   "cell_type": "code",
   "execution_count": null,
   "metadata": {},
   "outputs": [],
   "source": [
    "#############################################\n",
    "# This cell:\n",
    "#    1. Get Page object\n",
    "#############################################\n",
    "\n",
    "# 1. Get Page object\n",
    "page_object = nkit.Page.get_data(page_id)"
   ]
  },
  {
   "cell_type": "code",
   "execution_count": null,
   "metadata": {},
   "outputs": [],
   "source": [
    "#############################################\n",
    "# This cell:\n",
    "#    1. Set title object\n",
    "#    2. Create page [Push to notion]\n",
    "#############################################\n",
    "\n",
    "# 1. Set title object\n",
    "title = nobj.RichText(text=nobj.TextContent(content=\"new page\"),\n",
    "                      annotations=nobj.TextStyle(bold=True))\n",
    "\n",
    "# 2. Create page [Push to notion]\n",
    "new_page_object = nkit.Page.create_in_page(parent_page_id=page_object.id,\n",
    "                                           title=title)"
   ]
  },
  {
   "cell_type": "code",
   "execution_count": null,
   "metadata": {},
   "outputs": [],
   "source": [
    "#############################################\n",
    "# This cell:\n",
    "#    1. Update title\n",
    "#        1.1 Use object method\n",
    "#        1.2 Use gadget method\n",
    "#    2. Add Icon\n",
    "#        2.1 Add icon directly to the page object\n",
    "#        2.2 Use gadget method\n",
    "#    3. Update page [Push to notion]\n",
    "#############################################\n",
    "\n",
    "# 1. Update title\n",
    "# 1.1 Use object method\n",
    "new_title = nobj.RichText(text=nobj.TextContent(content=\"new page 2\"),\n",
    "                      annotations=nobj.TextStyle(bold=True))\n",
    "new_page_object.update_title(new_title)\n",
    "\n",
    "# 1.2 Use gadget method\n",
    "new_page_object = nkit.Gadget.update_page_title(page_object=new_page_object,\n",
    "                                                text=\"new page 3\",\n",
    "                                                bold=True)\n",
    "\n",
    "# 2. Add Icon\n",
    "# 2.1 Add icon directly to the page object\n",
    "new_page_object.icon = nobj.Icon(emoji=\"🐈\")\n",
    "new_page_object.update()\n",
    "# 2.2 Use gadget method\n",
    "new_page_object = nkit.Gadget.update_page_icon(page_object=new_page_object,\n",
    "                                                emoji=\"🐕\")\n",
    "\n",
    "# 3. Update page [Push to notion]\n",
    "new_page_object = nkit.Page.update(new_page_object)"
   ]
  }
 ],
 "metadata": {
  "kernelspec": {
   "display_name": "notion_wbe",
   "language": "python",
   "name": "python3"
  },
  "language_info": {
   "codemirror_mode": {
    "name": "ipython",
    "version": 3
   },
   "file_extension": ".py",
   "mimetype": "text/x-python",
   "name": "python",
   "nbconvert_exporter": "python",
   "pygments_lexer": "ipython3",
   "version": "3.10.3"
  },
  "orig_nbformat": 4,
  "vscode": {
   "interpreter": {
    "hash": "1a6c78603f204e84009c4e4c3c0b655b9f7529c83d726baa47e5c2df6b90c11c"
   }
  }
 },
 "nbformat": 4,
 "nbformat_minor": 2
}

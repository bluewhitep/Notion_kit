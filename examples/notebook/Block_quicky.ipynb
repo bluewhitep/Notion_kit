{
 "cells": [
  {
   "cell_type": "code",
   "execution_count": null,
   "metadata": {},
   "outputs": [],
   "source": [
    "import os\n",
    "from pprint import pprint\n",
    "\n",
    "from notion_kit.tool import Kit as nkit\n",
    "from notion_kit import object as  nobj"
   ]
  },
  {
   "cell_type": "code",
   "execution_count": null,
   "metadata": {},
   "outputs": [],
   "source": [
    "#############################################\n",
    "# This cell:\n",
    "#    1. Read token(*) from os environment variable\n",
    "#    * Following the instruction for get token:\n",
    "#        https://developers.notion.com/docs/authorization#set-up-the-auth-flow-for-a-public-integration\n",
    "#############################################\n",
    "\n",
    "# 1. Recommend: use environment variable\n",
    "token = os.environ[\"NOTION_TOKEN\"]"
   ]
  },
  {
   "cell_type": "code",
   "execution_count": null,
   "metadata": {},
   "outputs": [],
   "source": [
    "#############################################\n",
    "# This cell:\n",
    "#    1. Set client\n",
    "#    2. Get id from notion url\n",
    "#############################################\n",
    "\n",
    "# 1. Set client\n",
    "notion_client = nkit.Client(token=token)\n",
    "\n",
    "# 2. Get id from notion url\n",
    "##   Page url\n",
    "page_url = \"\"\n",
    "page_id = nkit.get_id(url=page_url)\n",
    "\n",
    "print(\"Page id: \", page_id)"
   ]
  },
  {
   "cell_type": "code",
   "execution_count": null,
   "metadata": {},
   "outputs": [],
   "source": [
    "#############################################\n",
    "# This cell:\n",
    "#    1. Get block object\n",
    "#    2. Get block children list\n",
    "#############################################\n",
    "\n",
    "# 1. Get block object\n",
    "block_data_object = nkit.Block.get_data(page_id)\n",
    "\n",
    "# 2. Get block children list\n",
    "block_list_object = nkit.Block.get_children_blocks(page_id)"
   ]
  },
  {
   "cell_type": "code",
   "execution_count": null,
   "metadata": {},
   "outputs": [],
   "source": [
    "#############################################\n",
    "# This cell:\n",
    "#    1. Add block\n",
    "#        1.1. Heading_1\n",
    "#        1.2. Paragraph\n",
    "#    2. Add block to page [Push to notion]\n",
    "#############################################\n",
    "\n",
    "# 1. Add block\n",
    "# 1.1. Heading_1\n",
    "#    - text: Heading 1\n",
    "heading_text = nobj.Heading(rich_text=[nobj.RichText(text=nobj.TextContent(content=\"Heading 1\"),\n",
    "                                                     annotations=nobj.TextStyle(bold=False))\n",
    "                                       ])\n",
    "heading_1_object = nobj.Block(type=\"heading_1\",\n",
    "                                heading_1=heading_text)\n",
    "# 1.2. Paragraph\n",
    "#    - text: Paragraph\n",
    "#    - style: bold\n",
    "paragraph_text = nobj.Paragraph(rich_text=[nkit.Gadget.Object.get_rich_text(text=\"Paragraph\", bold=True)])\n",
    "paragraph_object = nobj.Block(type=\"paragraph\",\n",
    "                                paragraph=paragraph_text)\n",
    "\n",
    "block_list = []\n",
    "block_list.append(heading_1_object)\n",
    "block_list.append(paragraph_object)\n",
    "\n",
    "# 2. Add block to page [Push to notion]\n",
    "new_object_list = nkit.Block.add_block(page_id, block_list)"
   ]
  },
  {
   "cell_type": "code",
   "execution_count": null,
   "metadata": {},
   "outputs": [],
   "source": [
    "#############################################\n",
    "# This cell:\n",
    "#    1. Update block\n",
    "#    2. Update block to page [Push to notion]\n",
    "#############################################\n",
    "\n",
    "# Update block\n",
    "## Paragraph\n",
    "### Paragraph -> paragraph 2\n",
    "### remove bold\n",
    "block_object = new_object_list.results[1]\n",
    "\n",
    "paragraph_object = nobj.Paragraph(rich_text=[nobj.RichText(text=nobj.TextContent(content=\"paragraph 2\"),\n",
    "                                                        annotations=nobj.TextStyle(bold=False))\n",
    "                                            ])\n",
    "block_object.update_block(paragraph=paragraph_object)\n",
    "\n",
    "# 2. Update block to page [Push to notion]\n",
    "new_block_object = nkit.Block.update(block_object)"
   ]
  },
  {
   "cell_type": "code",
   "execution_count": null,
   "metadata": {},
   "outputs": [],
   "source": [
    "#############################################\n",
    "# This cell:\n",
    "#    1. Delete block\n",
    "#############################################\n",
    "\n",
    "# 1. Delete block\n",
    "del_block_dict = nkit.Block.del_block(block_id=new_object_list.results[0].id)"
   ]
  }
 ],
 "metadata": {
  "kernelspec": {
   "display_name": "notion_wbe",
   "language": "python",
   "name": "python3"
  },
  "language_info": {
   "codemirror_mode": {
    "name": "ipython",
    "version": 3
   },
   "file_extension": ".py",
   "mimetype": "text/x-python",
   "name": "python",
   "nbconvert_exporter": "python",
   "pygments_lexer": "ipython3",
   "version": "3.10.3"
  },
  "orig_nbformat": 4,
  "vscode": {
   "interpreter": {
    "hash": "1a6c78603f204e84009c4e4c3c0b655b9f7529c83d726baa47e5c2df6b90c11c"
   }
  }
 },
 "nbformat": 4,
 "nbformat_minor": 2
}

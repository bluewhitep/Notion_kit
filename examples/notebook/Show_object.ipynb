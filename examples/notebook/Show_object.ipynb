{
 "cells": [
  {
   "cell_type": "code",
   "execution_count": 1,
   "metadata": {},
   "outputs": [],
   "source": [
    "import os\n",
    "from pprint import pprint\n",
    "\n",
    "from notion_kit import kit as nkit"
   ]
  },
  {
   "cell_type": "code",
   "execution_count": 3,
   "metadata": {},
   "outputs": [],
   "source": [
    "token = os.environ[\"NOTION_TOKEN\"]\n",
    "notion_client = nkit.Client(token=token)"
   ]
  },
  {
   "cell_type": "code",
   "execution_count": null,
   "metadata": {},
   "outputs": [],
   "source": [
    "page_url = \"\"\n",
    "\n",
    "database_url = \"\"\n",
    "\n",
    "database_page_url = \"\""
   ]
  },
  {
   "cell_type": "code",
   "execution_count": null,
   "metadata": {},
   "outputs": [],
   "source": [
    "# Show page object\n",
    "page_object = nkit.Page.get_data(nkit.get_id(page_url))\n",
    "\n",
    "pprint(page_object)"
   ]
  },
  {
   "cell_type": "code",
   "execution_count": null,
   "metadata": {},
   "outputs": [],
   "source": [
    "# Show database object\n",
    "database_object = nkit.Database.get_data(nkit.get_id(database_url)) \n",
    "\n",
    "pprint(database_object.Dict)"
   ]
  },
  {
   "cell_type": "code",
   "execution_count": null,
   "metadata": {},
   "outputs": [],
   "source": [
    "# Show database container object\n",
    "database_pages_object = nkit.Database.get_pages(nkit.get_id(database_url)) \n",
    "\n",
    "pprint(database_pages_object)"
   ]
  },
  {
   "cell_type": "code",
   "execution_count": null,
   "metadata": {},
   "outputs": [],
   "source": [
    "# Show page object\n",
    "page_on_database_object = nkit.Page.get_data(nkit.get_id(database_page_url))\n",
    "\n",
    "pprint(page_on_database_object)"
   ]
  }
 ],
 "metadata": {
  "kernelspec": {
   "display_name": "notion_kit",
   "language": "python",
   "name": "python3"
  },
  "language_info": {
   "codemirror_mode": {
    "name": "ipython",
    "version": 3
   },
   "file_extension": ".py",
   "mimetype": "text/x-python",
   "name": "python",
   "nbconvert_exporter": "python",
   "pygments_lexer": "ipython3",
   "version": "3.10.3"
  },
  "orig_nbformat": 4,
  "vscode": {
   "interpreter": {
    "hash": "f380d2ae13ff6d84f6d6472b34823f4803700b7cc84b8ada1f8ac740535cb02a"
   }
  }
 },
 "nbformat": 4,
 "nbformat_minor": 2
}
